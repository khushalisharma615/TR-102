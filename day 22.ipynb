{
 "cells": [
  {
   "cell_type": "code",
   "execution_count": null,
   "metadata": {
    "vscode": {
     "languageId": "plaintext"
    }
   },
   "outputs": [],
   "source": [
    "1prog.py\n",
    "# Import necessary modules\n",
    "from transformers import AutoTokenizer, AutoModelForCausalLM\n",
    "import torch\n",
    "\n",
    "# Load pre-trained GPT-2 model and tokenizer\n",
    "try:\n",
    "   \n",
    "    tokenizer = AutoTokenizer.from_pretrained(\"gpt2\")\n",
    "    print(\"Tokenizer loaded successfully!\")\n",
    "\n",
    "    print(\"Loading model (this may take a while)...\")\n",
    "    model = AutoModelForCausalLM.from_pretrained(\"gpt2\")\n",
    "    print(\"Model loaded successfully!\")\n",
    "except Exception as e:\n",
    "    print(f\"Error loading model or tokenizer: {e}\")\n",
    "\n",
    "# Ensure the model is on the right device (GPU if available, otherwise CPU)\n",
    "device = torch.device('cuda' if torch.cuda.is_available() else 'cpu')\n",
    "model.to(device)\n",
    "print(f\"Using device: {device}\")\n",
    "\n",
    "# Function to generate responses\n",
    "def generate_response(user_input):\n",
    "    try:\n",
    "        # Encode the user input\n",
    "        print(f\"User input: {user_input}\")\n",
    "        input_ids = tokenizer.encode(user_input + tokenizer.eos_token, return_tensors='pt').to(device)\n",
    "        print(f\"Input tokens: {input_ids}\")\n",
    "\n",
    "        # Generate a response\n",
    "        with torch.no_grad():\n",
    "            output = model.generate(\n",
    "                input_ids,\n",
    "                max_length=100, \n",
    "                num_return_sequences=1,\n",
    "                no_repeat_ngram_size=2,\n",
    "                early_stopping=True,\n",
    "                pad_token_id=tokenizer.eos_token_id\n",
    "            )\n",
    "        \n",
    "        # Decode the response and return\n",
    "        response = tokenizer.decode(output[0], skip_special_tokens=True)\n",
    "        print(f\"Generated response: {response}\")\n",
    "        return response\n",
    "\n",
    "    except Exception as e:\n",
    "        print(f\"Error during response generation: {e}\")\n",
    "        return \"Sorry, I couldn't generate a response.\"\n",
    "\n",
    "# Function to interact with the chatbot\n",
    "def chat_with_bot():\n",
    "    print(\"Hello! I'm your chatbot. Ask me anything, or type 'exit' to end the conversation.\")\n",
    "\n",
    "    while True:\n",
    "        user_input = input(\"You: \")\n",
    "        if user_input.lower() == 'exit':\n",
    "            print(\"Goodbye!\")\n",
    "            break\n",
    "        \n",
    "        response = generate_response(user_input)\n",
    "        print(f\"Chatbot: {response}\")\n",
    "\n",
    "# Start chatting with the bot\n",
    "chat_with_bot()\n",
    "\n",
    "# Keeps the terminal open until you press Enter\n",
    "input(\"Press Enter to exit...\")  \n",
    "\n"
   ]
  },
  {
   "cell_type": "markdown",
   "metadata": {},
   "source": [
    "![alt text](<Screenshot (257).png>)"
   ]
  },
  {
   "cell_type": "markdown",
   "metadata": {},
   "source": [
    "![alt text](<Screenshot (258).png>)"
   ]
  }
 ],
 "metadata": {
  "language_info": {
   "name": "python"
  }
 },
 "nbformat": 4,
 "nbformat_minor": 2
}
