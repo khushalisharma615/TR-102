{
 "cells": [
  {
   "cell_type": "code",
   "execution_count": null,
   "metadata": {
    "vscode": {
     "languageId": "plaintext"
    }
   },
   "outputs": [],
   "source": [
    "1. Main purpose was to sxtract required dsata form email data using vs code in poutlook.\n",
    "2. Tried to code in VBA language \n",
    "3. Another trial to delete few days email from inbox directly via code .The outcome was tat the message box did appear but there was no such outcome.\n",
    "so it was decided to drop the idea of managing emails or data email data form outlook using VBA."
   ]
  },
  {
   "cell_type": "markdown",
   "metadata": {},
   "source": [
    "![alt text](<Screenshot (300).png>)\n"
   ]
  },
  {
   "cell_type": "markdown",
   "metadata": {},
   "source": [
    "![alt text](<Screenshot (301).png>)\n",
    "\n",
    "\n"
   ]
  },
  {
   "cell_type": "code",
   "execution_count": null,
   "metadata": {
    "vscode": {
     "languageId": "plaintext"
    }
   },
   "outputs": [],
   "source": [
    "Sub DeleteDeletedItems()\n",
    "\n",
    "    Dim olApp As Outlook.Application\n",
    "    Dim olNamespace As Outlook.NameSpace\n",
    "    Dim olDeletedItems As Outlook.MAPIFolder\n",
    "    Dim olItem As Object\n",
    "    Dim i As Integer\n",
    "    \n",
    "    ' Initialize Outlook\n",
    "    Set olApp = New Outlook.Application\n",
    "    Set olNamespace = olApp.GetNamespace(\"MAPI\")\n",
    "    \n",
    "    ' Get the Deleted Items folder\n",
    "    Set olDeletedItems = olNamespace.GetDefaultFolder(olFolderDeletedItems)\n",
    "    \n",
    "    ' Prompt the user for confirmation\n",
    "    If MsgBox(\"Are you sure you want to delete all items from Deleted Items?\", vbYesNo + vbQuestion, \"Confirm Deletion\") = vbYes Then\n",
    "        ' Loop through each item in the Deleted Items folder and delete it\n",
    "        For i = olDeletedItems.Items.Count To 1 Step -1\n",
    "            Set olItem = olDeletedItems.Items(i)\n",
    "            olItem.Delete\n",
    "        Next i\n",
    "        ' Display a message box when deletion is complete\n",
    "        MsgBox \"Deleted Items folder has been cleared.\", vbInformation\n",
    "    End If\n",
    "    \n",
    "    ' Clean up\n",
    "    Set olApp = Nothing\n",
    "    Set olNamespace = Nothing\n",
    "    Set olDeletedItems = Nothing\n",
    "    Set olItem = Nothing\n",
    "    \n",
    "End Sub\n",
    "\n"
   ]
  },
  {
   "cell_type": "markdown",
   "metadata": {},
   "source": [
    "The idea to opt for VBA was chosen as on a server not having access to internrt makes it nearly impossible ot atleast difficult to go for normal coding as the server does not supperts installing any IDE or compiler which is the paper part of pen and paper pair. \n",
    "This was only possibke if we get a software cotaining python cose editor and compiler preinstallled in the system.  "
   ]
  }
 ],
 "metadata": {
  "language_info": {
   "name": "python"
  }
 },
 "nbformat": 4,
 "nbformat_minor": 2
}
