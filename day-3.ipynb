{
 "cells": [
  {
   "cell_type": "markdown",
   "metadata": {},
   "source": [
    "1.Learnt about AI email assistants :\n",
    "shortwave\n",
    "microsoft copilot\n",
    "super human\n",
    "sanebox\n",
    "mailbutter\n",
    "\n",
    "2. Data extraction and enrichment\n",
    "Extracting daatya and storing in project managemet app\n",
    "\n",
    "3.learnt about few python libraries :\n",
    "- Communication-  smtp lib, Mailgim\n",
    "- Web development- flask light, Django( python web framework)\n",
    "- GUI- Tkinter\n",
    "-Scipy\n",
    "- Matplotlib\n",
    "-Tensorflow\n",
    "\n",
    "4. NLTK, Spacy(Natural Language Processing)\n",
    "\n",
    "5. Mysql, SQLite for database\n",
    "\n",
    "6. pdf to text- PYMUDF\n",
    "\n",
    "7. IMAGE TO text- pytesseract\n",
    "\n",
    "8. Wordfile to text- python.docx"
   ]
  }
 ],
 "metadata": {
  "kaggle": {
   "accelerator": "gpu",
   "dataSources": [
    {
     "datasetId": 7042,
     "sourceId": 10119,
     "sourceType": "datasetVersion"
    },
    {
     "datasetId": 5571993,
     "sourceId": 9214751,
     "sourceType": "datasetVersion"
    },
    {
     "datasetId": 5573138,
     "sourceId": 9216355,
     "sourceType": "datasetVersion"
    },
    {
     "datasetId": 5573143,
     "sourceId": 9216361,
     "sourceType": "datasetVersion"
    }
   ],
   "dockerImageVersionId": 30747,
   "isGpuEnabled": true,
   "isInternetEnabled": true,
   "language": "python",
   "sourceType": "notebook"
  },
  "kernelspec": {
   "display_name": "Python 3",
   "language": "python",
   "name": "python3"
  },
  "language_info": {
   "codemirror_mode": {
    "name": "ipython",
    "version": 3
   },
   "file_extension": ".py",
   "mimetype": "text/x-python",
   "name": "python",
   "nbconvert_exporter": "python",
   "pygments_lexer": "ipython3",
   "version": "3.10.13"
  }
 },
 "nbformat": 4,
 "nbformat_minor": 4
}
