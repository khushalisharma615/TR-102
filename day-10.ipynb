{
 "cells": [
  {
   "cell_type": "markdown",
   "metadata": {},
   "source": [
    "Please find below the details regarding the conferences that were previously discussed.\n",
    "\n",
    "       \n",
    "\n",
    "1.     CVIP 2024\n",
    "\n",
    " \n",
    "\n",
    "·     CVIP 2024, the 9th International Conference on Computer Vision & Image Processing will be held at Indian Institute      of Information Technology Design and Manufacturing, Kancheepuram ( IIITDM Kancheepuram), Chennai, Tamil           Nadu, INDIA from December 19-21, 2024\n",
    "\n",
    "·       Submission deadline- August 15, 2024\n",
    "\n",
    "·       Previous editions of CVIP were held at IIT Jammu (2023), VNIT Nagpur (2022), IIT Ropar (2021), IIIT Allahabad (2020), MNIT Jaipur (2019), IIITDM Jabalpur (2018), and IIT Roorkee (2017 and 2016). \n",
    "\n",
    "·       All accepted and presented papers will be submitted for publication with Springer in Communications in Computer and Information Science (CCIS)\n",
    "\n",
    " \n",
    "\n",
    "2.      CSCT 2024\n",
    "\n",
    " \n",
    "\n",
    "·       National Institute of Technology, Sikkim, India is going to organize the 3rd Congress on Smart Computing Technologies (CSCT 2024) during December 14-15, 2024\n",
    "\n",
    "·       Submission deadline -5 October\n",
    "\n",
    "·       Accepted papers will be published in the SCOPUS Indexed Springer Book Series Smart Innovation, Systems and Technologies.\n",
    "\n",
    "·       1st Congress on smart computing venue-SCRIL, South Asian University, Akbar Bhawan, Chanakyapuri. The conference is technically sponsored by the Soft Computing Research Society.\n",
    "\n",
    "·       The 1st and 2nd conference was held at the same venue.\n",
    "\n",
    " \n",
    "\n",
    " \n",
    "\n",
    "3.     ICDICI 2024\n",
    "\n",
    " \n",
    "\n",
    "·       5th International Conference on Data Intelligence and Cognitive Informatics\n",
    "\n",
    "·       Submission deadline - Aug 8, 2024\n",
    "\n",
    "·       Venue- SCAD College of Engineering and Technology, Cheranmahadevi, Tirunelveli, Tamilnadu, India.\n",
    "\n",
    "·       Accepted papers will be published in the Springer series.\n",
    "\n",
    "·       The other former conferences have been held at the same venue.\n",
    "\n",
    " "
   ]
  },
  {
   "cell_type": "markdown",
   "metadata": {},
   "source": [
    "Due to time constarint and keeping in mind the tasks that were supposed to domne NOTHER IDE was decided tobe switched over to. \n",
    "Rrying to code on notepad was also thought of but it was getting difficult or was really time consuming to retieve email data via the process ,there was firewall issue asd well."
   ]
  }
 ],
 "metadata": {
  "language_info": {
   "name": "python"
  }
 },
 "nbformat": 4,
 "nbformat_minor": 2
}
