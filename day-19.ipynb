{
 "cells": [
  {
   "cell_type": "code",
   "execution_count": null,
   "metadata": {
    "vscode": {
     "languageId": "plaintext"
    }
   },
   "outputs": [],
   "source": [
    "from gensim.summarization import summarize\n",
    "from sklearn.feature_extraction.text import CountVectorizer\n",
    "from sklearn.decomposition import LatentDirichletAllocation\n",
    "import re\n",
    "\n",
    "def summarize_text(text):\n",
    "    \"\"\"\n",
    "    Summarizes the input text using Gensim's summarization.\n",
    "    \"\"\"\n",
    "    try:\n",
    "        summary = summarize(text)\n",
    "        if not summary:\n",
    "            return \"Summary could not be generated.\"\n",
    "        return summary\n",
    "    except ValueError as e:\n",
    "        return f\"Error summarizing text: {e}\"\n",
    "\n",
    "def extract_single_topic_idea(text):\n",
    "    \"\"\"\n",
    "    Extracts a single topic idea from the input text using topic modeling.\n",
    "    \"\"\"\n",
    "    print(\"Extracting topic idea...\")\n",
    "    # Preprocess the text\n",
    "    text = re.sub(r'\\s+', ' ', text).lower()  # Clean and lower case\n",
    "\n",
    "    # Vectorize the text\n",
    "    vectorizer = CountVectorizer(stop_words='english')\n",
    "    dtm = vectorizer.fit_transform([text])  # Document-Term Matrix\n",
    "\n",
    "    # Fit the LDA model\n",
    "    num_topics = 1  # We want only one topic\n",
    "    lda = LatentDirichletAllocation(n_components=num_topics, max_iter=1000, random_state=42, learning_method='online')\n",
    "    lda.fit(dtm)\n",
    "\n",
    "    # Extract topic keywords\n",
    "    feature_names = vectorizer.get_feature_names_out()\n",
    "    topic = lda.components_[0]\n",
    "    top_keywords_idx = topic.argsort()[-10:][::-1]\n",
    "    top_keywords = [feature_names[i] for i in top_keywords_idx]\n",
    "    return ', '.join(top_keywords)\n",
    "\n",
    "\t\n",
    "\n",
    "# Get summary\n",
    "print(\"Starting summarization...\")\n",
    "summary = summarize_text(email_body)\n",
    "print(\"Summary:\")\n",
    "print(summary)\n",
    "\n",
    "# Get a single topic idea from the summarized text\n",
    "print(\"Starting topic extraction...\")\n",
    "topic_idea = extract_single_topic_idea(summary)\n",
    "print(\"\\nTopic Idea:\")\n",
    "print(topic_idea)\n"
   ]
  }
 ],
 "metadata": {
  "language_info": {
   "name": "python"
  }
 },
 "nbformat": 4,
 "nbformat_minor": 2
}
