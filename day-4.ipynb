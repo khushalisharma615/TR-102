{
 "cells": [
  {
   "cell_type": "markdown",
   "metadata": {},
   "source": [
    "1. Looked for confreneces held in India over last few years like IEE ANTS\n",
    "2. Intramailing\n",
    "3. uisng AI for project management.\n",
    "4. Data computation.\n",
    "5 Difference between internet and intranet\n",
    "6. feature of intranet.\n",
    "7. Advantages  and disadvantages of intranet."
   ]
  }
 ],
 "metadata": {
  "kaggle": {
   "accelerator": "gpu",
   "dataSources": [
    {
     "datasetId": 7042,
     "sourceId": 10119,
     "sourceType": "datasetVersion"
    },
    {
     "datasetId": 5571993,
     "sourceId": 9214751,
     "sourceType": "datasetVersion"
    },
    {
     "datasetId": 5573138,
     "sourceId": 9216355,
     "sourceType": "datasetVersion"
    },
    {
     "datasetId": 5573143,
     "sourceId": 9216361,
     "sourceType": "datasetVersion"
    }
   ],
   "dockerImageVersionId": 30747,
   "isGpuEnabled": true,
   "isInternetEnabled": true,
   "language": "python",
   "sourceType": "notebook"
  },
  "kernelspec": {
   "display_name": "Python 3",
   "language": "python",
   "name": "python3"
  },
  "language_info": {
   "codemirror_mode": {
    "name": "ipython",
    "version": 3
   },
   "file_extension": ".py",
   "mimetype": "text/x-python",
   "name": "python",
   "nbconvert_exporter": "python",
   "pygments_lexer": "ipython3",
   "version": "3.10.13"
  }
 },
 "nbformat": 4,
 "nbformat_minor": 4
}
