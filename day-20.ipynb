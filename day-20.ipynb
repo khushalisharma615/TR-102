{
 "cells": [
  {
   "cell_type": "code",
   "execution_count": null,
   "metadata": {
    "vscode": {
     "languageId": "plaintext"
    }
   },
   "outputs": [],
   "source": [
    "import os\n",
    "import win32com.client\n",
    "from datetime import datetime, timedelta, timezone\n",
    "\n",
    "# Specify the folder where the output text file will be saved\n",
    "output_folder = \"C:\\\\path\\\\to\\\\output\\\\folder\"  # Replace with your desired folder path\n",
    "os.makedirs(output_folder, exist_ok=True)  # Create the folder if it doesn't exist\n",
    "\n",
    "# File path for the output text file\n",
    "output_file_path = os.path.join(output_folder, \"emails_last_6_months.txt\")\n",
    "\n",
    "# Connect to Outlook\n",
    "outlook = win32com.client.Dispatch(\"Outlook.Application\").GetNamespace(\"MAPI\")\n",
    "\n",
    "# Access the default inbox\n",
    "inbox = outlook.GetDefaultFolder(6)\n",
    "\n",
    "# Check the connection status\n",
    "if outlook.Session.Offline:\n",
    "    print(\"Outlook is offline.\")\n",
    "else:\n",
    "    print(\"Outlook is online and connected.\")\n",
    "\n",
    "# Access the specific account's inbox (if multiple accounts are configured)\n",
    "account_name = \"mkspau.68@gmail.com (1)\"  # Replace this with your actual account name\n",
    "inbox = outlook.GetDefaultFolder(6)\n",
    "\n",
    "account = outlook.Folders.Item(account_name)\n",
    "print(f\"Accessing inbox for account: {account.Name}\")\n",
    "\n",
    "# Access the inbox of the specified account\n",
    "inbox = account.Folders.Item(\"Inbox\")\n",
    "\n",
    "# Define the date range (6 months back)\n",
    "months_back = 6\n",
    "start_date = \"05/01/2024 12:00 AM\"\n",
    "filter_query = f\"[ReceivedTime] >= '{start_date}'\"\n",
    "\n",
    "start_date = (datetime.now() - timedelta(days=months_back * 30)).strftime(\"%m/%d/%Y %H:%M %p\")\n",
    "\n",
    "\n",
    "# Apply the filter to retrieve emails from the last 6 months\n",
    "messages = inbox.Items.Restrict(filter_query)\n",
    "messages.Sort(\"[ReceivedTime]\", Descending=True)\n",
    "\n",
    "# Write email details to a text file\n",
    "with open(output_file_path, \"w\", encoding=\"utf-8\") as file:\n",
    "    # Iterate through messages and write each email's details to the file\n",
    "    for message in messages:\n",
    "        try:\n",
    "            # Convert received time to timezone-aware datetime\n",
    "            received_time = message.ReceivedTime\n",
    "            if received_time.tzinfo is None:\n",
    "                # Add UTC timezone if datetime is naive\n",
    "                received_time = received_time.replace(tzinfo=timezone.utc)\n",
    "\n",
    "            # Prepare email details\n",
    "            subject = message.Subject if hasattr(message, 'Subject') else \"No Subject\"\n",
    "            sender_name = message.SenderName if hasattr(message, 'SenderName') else \"No Sender\"\n",
    "            body = message.Body if hasattr(message, 'Body') else \"No Body Content\"\n",
    "\n",
    "            # Prepare the content to be written to file\n",
    "            email_content = (\n",
    "                f\"Subject: {subject}\\n\"\n",
    "                f\"Received Time: {received_time}\\n\"\n",
    "                f\"Sender: {sender_name}\\n\"\n",
    "                f\"Body:\\n{body}\\n\"\n",
    "                \"==================================================\\n\"\n",
    "            )\n",
    "\n",
    "            # Write email content to the file\n",
    "            file.write(email_content)\n",
    "\n",
    "        except Exception as e:\n",
    "            print(f\"Error reading a message: {e}\")\n",
    "\n",
    "output_path = \"C:\\\\Users\\\\PC\\\\OneDrive\\\\Desktop\\\\retrieve_outlook_data\\\\OUTPUT 6 months\"\n",
    "print(f\"Email details from the last 6 months have been saved to {output_path}\")\n"
   ]
  },
  {
   "cell_type": "markdown",
   "metadata": {},
   "source": [
    "![alt text](<Screenshot (223) (1).png>)"
   ]
  },
  {
   "cell_type": "markdown",
   "metadata": {},
   "source": [
    "![alt text](<Screenshot (222) (2).png>)"
   ]
  },
  {
   "cell_type": "markdown",
   "metadata": {},
   "source": [
    "Code froms clusters from the daata input provided to it.\n"
   ]
  }
 ],
 "metadata": {
  "language_info": {
   "name": "python"
  }
 },
 "nbformat": 4,
 "nbformat_minor": 2
}
