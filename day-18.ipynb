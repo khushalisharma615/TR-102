{
 "cells": [
  {
   "cell_type": "markdown",
   "metadata": {},
   "source": [
    "I am writing to update you on the progress of the mail data retrieval project. I have successfully extracted the email data and organized it into separate folders for text and attachment files using code that I developed. Also, I am currently working on extracting topic ideas from each email using NLP. Please find the relevant code attached for your review.\n"
   ]
  },
  {
   "cell_type": "code",
   "execution_count": null,
   "metadata": {
    "vscode": {
     "languageId": "plaintext"
    }
   },
   "outputs": [],
   "source": [
    "import win32com.client\n",
    "\n",
    "# Connect to Outlook\n",
    "outlook = win32com.client.Dispatch(\"Outlook.Application\").GetNamespace(\"MAPI\")\n",
    "import sys\n",
    "print(sys.path)\n",
    "\n",
    "\n",
    "# Access the default inbox\n",
    "inbox = outlook.GetDefaultFolder(6)\n",
    "\n",
    "# Check the connection status\n",
    "if outlook.Session.Offline:\n",
    "    print(\"Outlook is offline.\")\n",
    "else:\n",
    "    print(\"Outlook is online and connected.\")\n",
    "\n",
    "# Optional: Print account information\n",
    "accounts = outlook.Folders\n",
    "for account in accounts:\n",
    "    print(f\"Account: {account.Name}\")\n",
    "\n",
    "# Access the specific account's inbox (if multiple accounts are configured)\n",
    "# Replace 'Your Email Account' with the actual name of your email account\n",
    "account = outlook.Folders.Item(\"mkspau.68@gmail.com (1)\")\n",
    "print(f\"Accessing inbox for account: {account.Name}\")\n",
    "\n",
    "# Access the inbox of the specified account\n",
    "inbox = account.Folders.Item(\"Inbox\")\n",
    "\n",
    "# Connect to folder\n",
    "inbox = outlook.Folders(\"mkspau.68@gmail.com (1)\").Folders(\"Inbox\")\n",
    "#inbox = outlook.GetDefaultFolder(6)\n",
    "\n",
    "# Get items in the inbox\n",
    "messages = inbox.Items\n",
    "\n",
    "# Print the count of items\n",
    "print(f\"Number of items in inbox: {messages.Count}\")"
   ]
  },
  {
   "cell_type": "markdown",
   "metadata": {},
   "source": [
    "![alt text](<Screenshot (230).png>)"
   ]
  },
  {
   "cell_type": "markdown",
   "metadata": {},
   "source": [
    "![alt text](<Screenshot (232).png>)"
   ]
  },
  {
   "cell_type": "markdown",
   "metadata": {},
   "source": [
    "![alt text](<Screenshot (233).png>)"
   ]
  },
  {
   "cell_type": "markdown",
   "metadata": {},
   "source": [
    "This code orgainzed the data very well but inly could give the output for a single day and timeline adjustments resulkted in errors for long.\n",
    "\n",
    "This is a screenshot of one of the files available in previous screenshot. The file is saved in text form that opens in notepad and consists of email body.\n"
   ]
  }
 ],
 "metadata": {
  "language_info": {
   "name": "python"
  }
 },
 "nbformat": 4,
 "nbformat_minor": 2
}
