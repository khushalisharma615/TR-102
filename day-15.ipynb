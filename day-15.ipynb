{
 "cells": [
  {
   "cell_type": "markdown",
   "metadata": {},
   "source": [
    "C:\\Users\\PC\\Downloads\\आज की डिजिटल दुनिया में (1).docx\n",
    "\n",
    "\n",
    "This is the hindi version of the article I wrote in english.\n",
    "\n",
    "This had to be translated by me using certain software and also making additional changes.\n"
   ]
  }
 ],
 "metadata": {
  "language_info": {
   "name": "python"
  }
 },
 "nbformat": 4,
 "nbformat_minor": 2
}
