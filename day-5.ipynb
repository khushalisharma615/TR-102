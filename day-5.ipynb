{
 "cells": [
  {
   "cell_type": "markdown",
   "metadata": {},
   "source": [
    "1. Data processing- Modification of data observed by the user:\n",
    ".Manual\n",
    ".Automatic\n",
    ".Computerised\n",
    ".Other development\n",
    "\n",
    "2.Brief digging \n",
    "-Mails\n",
    "-Data Minning\n",
    "-How to enhance secracy in email\n",
    "-Ai Features on intarnet mails\n",
    "\n",
    "\n"
   ]
  }
 ],
 "metadata": {
  "language_info": {
   "name": "python"
  }
 },
 "nbformat": 4,
 "nbformat_minor": 2
}
