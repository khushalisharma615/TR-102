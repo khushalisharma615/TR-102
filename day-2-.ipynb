{
 "cells": [
  {
   "cell_type": "markdown",
   "metadata": {},
   "source": [
    "\n",
    "1. Learning about Artificial intelligence, its kinds,examples of its usage in indusrty like JP Morgan, Tesla etc along with its future scope.\n",
    "2. Concept of Intranet.\n",
    "3.How AI can be used on Intranet for data extraction."
   ]
  },
  {
   "cell_type": "markdown",
   "metadata": {},
   "source": [
    "As advised, learned about\n",
    "> 1. Artificial intelligence\n",
    "> AI is the science of engineering of making intelligent machines.\n",
    "> Used in robotics,healthcare, business analysis, marketing and it found its way in daily life.\n",
    "> 2. Brief study of AI, ML and deep learning and how they are interrelated.\n",
    "> Different stages of AI\n",
    ">      - Artificial narrow intelligence ( example: alexa , face verification, social          humanoid sofia, autopilot feature at Tesla)\n",
    ">     - Artificial general intelligence ( machines having ability to perform intellectual\n",
    ">      -  Artificial super intelligence ( capability of computers will surpass humans)\n",
    "> 3. AI used in:\n",
    "> JP Morgan Chase's contract Intelligence\n",
    "> IBM Watson technology for medical diagnosis\n",
    "> Google AI eye doctor\n",
    "> Twitter uses AI to identify hate speech and treroist attack\n",
    "> Google recommendation while searching.\n",
    "> \n",
    "> 4. AI features on internet mails( learnt some AI  tools that can help organise, delegate , manage mails.\n",
    "> 5. Data mining  ( application benefits and al life examples)\n",
    ">"
   ]
  }
 ],
 "metadata": {
  "kaggle": {
   "accelerator": "none",
   "dataSources": [],
   "dockerImageVersionId": 30746,
   "isGpuEnabled": false,
   "isInternetEnabled": true,
   "language": "python",
   "sourceType": "notebook"
  },
  "kernelspec": {
   "display_name": "Python 3",
   "language": "python",
   "name": "python3"
  },
  "language_info": {
   "codemirror_mode": {
    "name": "ipython",
    "version": 3
   },
   "file_extension": ".py",
   "mimetype": "text/x-python",
   "name": "python",
   "nbconvert_exporter": "python",
   "pygments_lexer": "ipython3",
   "version": "3.10.13"
  }
 },
 "nbformat": 4,
 "nbformat_minor": 4
}
