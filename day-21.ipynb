{
 "cells": [
  {
   "cell_type": "code",
   "execution_count": null,
   "metadata": {
    "vscode": {
     "languageId": "plaintext"
    }
   },
   "outputs": [],
   "source": [
    "1prog.py\n",
    "from chatterbot import ChatBot\n",
    "from chatterbot.trainers import ChatterBotCorpusTrainer\n",
    "# Load model directly\n",
    "from transformers import AutoTokenizer, AutoModelForCausalLM\n",
    "\n",
    "tokenizer = AutoTokenizer.from_pretrained(\"EleutherAI/gpt-j-6b\")\n",
    "model = AutoModelForCausalLM.from_pretrained(\"EleutherAI/gpt-j-6b\")\n",
    "\n",
    "\n",
    "\n",
    "# Create a chatbot instance\n",
    "chatbot = ChatBot('SimpleBot')\n",
    "\n",
    "# Create a trainer and train the bot with English corpus data\n",
    "trainer = ChatterBotCorpusTrainer(chatbot)\n",
    "\n",
    "# Train the chatbot based on a built-in corpus of conversations\n",
    "trainer.train('chatterbot.corpus.english')\n",
    "\n",
    "# Function to interact with the chatbot\n",
    "def chat_with_bot():\n",
    "    print(\"Hello! I am SimpleBot. Ask me anything, or type 'exit' to end.\")\n",
    "    \n",
    "    while True:\n",
    "        user_input = input(\"You:\")\n",
    "        \n",
    "        if user_input.lower() == 'exit':\n",
    "            print(\"Goodbye!\")\n",
    "            break\n",
    "        \n",
    "        # Get a response from the chatbot\n",
    "        response = chatbot.get_response(user_input)\n",
    "        print(f\"SimpleBot: {response}\")\n",
    "\n",
    "# Start chatting with the bot\n",
    "chat_with_bot()"
   ]
  },
  {
   "cell_type": "markdown",
   "metadata": {},
   "source": [
    "This is a simpke chatbot madeby traiining few  nlp models\n"
   ]
  }
 ],
 "metadata": {
  "language_info": {
   "name": "python"
  }
 },
 "nbformat": 4,
 "nbformat_minor": 2
}
