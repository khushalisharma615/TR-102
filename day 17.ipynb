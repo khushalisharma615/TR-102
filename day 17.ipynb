{
 "cells": [
  {
   "cell_type": "code",
   "execution_count": null,
   "metadata": {
    "vscode": {
     "languageId": "plaintext"
    }
   },
   "outputs": [],
   "source": [
    "import win32com.client\n",
    "from datetime import datetime, timezone\n",
    "\n",
    "# Connect to Outlook\n",
    "outlook = win32com.client.Dispatch(\"Outlook.Application\").GetNamespace(\"MAPI\")\n",
    "\n",
    "# Access the default inbox\n",
    "inbox = outlook.GetDefaultFolder(6)\n",
    "\n",
    "# Check the connection status\n",
    "if outlook.Session.Offline:\n",
    "    print(\"Outlook is offline.\")\n",
    "else:\n",
    "    print(\"Outlook is online and connected.\")\n",
    "\n",
    "# Optional: Print account information\n",
    "accounts = outlook.Folders\n",
    "for account in accounts:\n",
    "    print(f\"Account: {account.Name}\")\n",
    "\n",
    "# Access the specific account's inbox (if multiple accounts are configured)\n",
    "# Replace 'Your Email Account' with the actual name of your email account\n",
    "account_name = \" mkspau.68@gmail.com (1)\"  # Replace this with your actual account name\n",
    "account = outlook.Folders.Item(account_name)\n",
    "print(f\"Accessing inbox for account: {account.Name}\")\n",
    "\n",
    "# Access the inbox of the specified account\n",
    "inbox = account.Folders.Item(\"Inbox\")\n",
    "\n",
    "# Get items in the inbox\n",
    "messages = inbox.Items\n",
    "\n",
    "# Ensure messages are sorted by date received\n",
    "messages.Sort(\"[ReceivedTime]\", Descending=True)\n",
    "\n",
    "# Print the count of items\n",
    "print(f\"Number of items in inbox: {messages.Count}\")\n",
    "\n",
    "# Retrieve and print message details\n",
    "for message in messages:\n",
    "    try:\n",
    "        # Convert received time to timezone-aware datetime\n",
    "        received_time = message.ReceivedTime\n",
    "        if received_time.tzinfo is None:\n",
    "            # Add UTC timezone if datetime is naive\n",
    "            received_time = received_time.replace(tzinfo=timezone.utc)\n",
    "\n",
    "        print(f\"Subject: {message.Subject}\")\n",
    "        print(f\"Received Time: {received_time}\")\n",
    "        print(f\"Sender: {message.SenderName}\")\n",
    "        print(\"=\" * 50)\n",
    "\n",
    "    except Exception as e:\n",
    "        print(f\"Error reading a message: {e}\")\n"
   ]
  },
  {
   "cell_type": "markdown",
   "metadata": {},
   "source": [
    "Other tried code along with their outputs, this one did gave output but not suited the best as per requirement.\n"
   ]
  },
  {
   "cell_type": "markdown",
   "metadata": {},
   "source": [
    "![alt text](<Screenshot (277).png>)"
   ]
  },
  {
   "cell_type": "markdown",
   "metadata": {},
   "source": [
    "![alt text](<Screenshot (278).png>)"
   ]
  }
 ],
 "metadata": {
  "language_info": {
   "name": "python"
  }
 },
 "nbformat": 4,
 "nbformat_minor": 2
}
